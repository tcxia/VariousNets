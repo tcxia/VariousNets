{
 "cells": [
  {
   "cell_type": "code",
   "execution_count": 27,
   "id": "10f9e8fb",
   "metadata": {},
   "outputs": [],
   "source": [
    "import os.path as osp\n",
    "import torch\n",
    "import torch.nn as nn\n",
    "import torch.nn.functional as F\n",
    "import torch_geometric.transforms as T\n",
    "from torch_geometric.datasets import Planetoid\n",
    "from torch_geometric.nn import GATConv"
   ]
  },
  {
   "cell_type": "code",
   "execution_count": 28,
   "id": "adddeaa0",
   "metadata": {},
   "outputs": [],
   "source": [
    "dataset_name = 'Cora'\n",
    "path = osp.join(\".\", \"data\", \"Planetoid\")\n",
    "dataset = Planetoid(path, dataset_name, transform=T.NormalizeFeatures())\n",
    "data = dataset[0]"
   ]
  },
  {
   "cell_type": "code",
   "execution_count": 29,
   "id": "46a95d4a",
   "metadata": {},
   "outputs": [
    {
     "data": {
      "text/plain": [
       "Cora()"
      ]
     },
     "execution_count": 29,
     "metadata": {},
     "output_type": "execute_result"
    }
   ],
   "source": [
    "dataset"
   ]
  },
  {
   "cell_type": "code",
   "execution_count": 30,
   "id": "4f533621",
   "metadata": {},
   "outputs": [
    {
     "data": {
      "text/plain": [
       "Data(edge_index=[2, 10556], test_mask=[2708], train_mask=[2708], val_mask=[2708], x=[2708, 1433], y=[2708])"
      ]
     },
     "execution_count": 30,
     "metadata": {},
     "output_type": "execute_result"
    }
   ],
   "source": [
    "data"
   ]
  },
  {
   "cell_type": "code",
   "execution_count": 44,
   "id": "77b5b595",
   "metadata": {},
   "outputs": [
    {
     "data": {
      "text/plain": [
       "tensor([3, 4, 4,  ..., 3, 3, 3], device='cuda:0')"
      ]
     },
     "execution_count": 44,
     "metadata": {},
     "output_type": "execute_result"
    }
   ],
   "source": [
    "data.y"
   ]
  },
  {
   "cell_type": "code",
   "execution_count": 45,
   "id": "fb32e2c4",
   "metadata": {},
   "outputs": [
    {
     "data": {
      "text/plain": [
       "tensor([ True,  True,  True,  ..., False, False, False], device='cuda:0')"
      ]
     },
     "execution_count": 45,
     "metadata": {},
     "output_type": "execute_result"
    }
   ],
   "source": [
    "data.train_mask"
   ]
  },
  {
   "cell_type": "code",
   "execution_count": 46,
   "id": "3be7e13c",
   "metadata": {},
   "outputs": [
    {
     "name": "stdout",
     "output_type": "stream",
     "text": [
      "tensor([3, 2, 2, 2, 2, 0, 2, 2, 2, 2, 2, 2, 2, 2, 2, 2, 2, 2, 2, 2, 3, 2, 2, 2,\n",
      "        2, 2, 2, 1, 2, 2, 2, 2, 2, 3, 2, 2, 2, 2, 2, 2, 2, 2, 2, 2, 2, 2, 2, 2,\n",
      "        2, 2, 2, 2, 2, 2, 2, 2, 5, 2, 2, 1, 1, 1, 1, 1, 1, 1, 4, 1, 1, 1, 1, 1,\n",
      "        1, 1, 1, 1, 1, 4, 1, 1, 1, 1, 1, 1, 3, 4, 4, 4, 4, 1, 1, 3, 1, 0, 3, 0,\n",
      "        2, 1, 3, 3, 3, 3, 3, 3, 3, 3, 3, 3, 3, 3, 3, 3, 3, 3, 3, 3, 5, 5, 5, 5,\n",
      "        5, 5, 2, 2, 2, 2, 1, 6, 6, 3, 0, 0, 5, 0, 5, 0, 3, 5, 3, 0, 0, 6, 0, 6,\n",
      "        3, 3, 1, 3, 1, 3, 3, 3, 3, 3, 3, 3, 3, 3, 3, 3, 3, 3, 3, 3, 3, 3, 3, 3,\n",
      "        3, 3, 5, 5, 5, 5, 5, 5, 5, 5, 2, 2, 2, 4, 4, 4, 0, 3, 3, 2, 5, 5, 5, 5,\n",
      "        6, 5, 5, 5, 5, 0, 4, 4, 4, 0, 0, 5, 0, 0, 6, 6, 6, 6, 6, 6, 0, 0, 0, 0,\n",
      "        3, 0, 0, 0, 3, 3, 0, 3, 3, 3, 3, 3, 3, 3, 3, 3, 3, 3, 3, 3, 3, 3, 3, 3,\n",
      "        3, 3, 3, 3, 3, 5, 5, 5, 5, 3, 5, 5, 5, 5, 5, 5, 4, 4, 4, 4, 4, 4, 4, 4,\n",
      "        6, 6, 5, 6, 6, 3, 5, 5, 5, 0, 5, 0, 4, 4, 3, 3, 3, 2, 2, 1, 3, 3, 3, 3,\n",
      "        3, 3, 5, 3, 3, 4, 4, 3, 3, 3, 3, 3, 3, 3, 0, 3, 3, 6, 3, 6, 0, 5, 0, 0,\n",
      "        4, 0, 6, 5, 5, 0, 1, 3, 3, 5, 6, 5, 3, 3, 4, 3, 3, 3, 3, 3, 4, 3, 3, 4,\n",
      "        3, 1, 1, 0, 1, 0, 6, 0, 0, 0, 0, 0, 0, 0, 5, 0, 5, 5, 5, 3, 3, 3, 3, 3,\n",
      "        0, 0, 0, 2, 0, 0, 0, 3, 3, 3, 3, 1, 1, 1, 1, 2, 1, 1, 1, 1, 1, 0, 1, 3,\n",
      "        1, 1, 1, 1, 1, 0, 0, 0, 5, 5, 5, 5, 3, 5, 1, 1, 3, 6, 6, 5, 6, 2, 3, 3,\n",
      "        0, 3, 3, 3, 4, 4, 4, 4, 3, 3, 3, 4, 3, 3, 4, 0, 6, 0, 6, 6, 0, 0, 3, 3,\n",
      "        3, 3, 3, 1, 1, 1, 3, 3, 3, 3, 5, 6, 3, 4, 6, 0, 0, 6, 6, 6, 6, 6, 3, 3,\n",
      "        6, 6, 5, 2, 1, 2, 1, 0, 0, 6, 6, 2, 3, 3, 5, 0, 0, 0, 0, 0, 5, 5, 0, 3,\n",
      "        5, 0, 6, 3, 6, 0, 0, 0, 0, 0, 0, 0, 0, 0, 0, 0, 3, 3, 3, 3, 1, 6, 1, 0,\n",
      "        3, 3, 3, 3, 3, 6, 1, 0, 2, 2, 4, 4, 4, 4, 4, 5, 6, 3, 3, 0, 0, 0, 0, 5,\n",
      "        4, 4, 4, 4, 4, 3, 3, 3, 3, 3, 0, 3, 4, 4, 4, 1, 1, 3, 1, 1, 5, 1, 3, 4,\n",
      "        4, 4, 4, 4, 4, 4, 0, 0, 0, 5, 5, 5, 5, 5, 0, 5, 3, 0, 6, 2, 0, 5, 3, 3,\n",
      "        5, 5, 5, 5, 5, 4, 4, 0, 4, 0, 4, 0, 3, 4, 4, 4, 1, 3, 3, 3, 3, 3, 4, 2,\n",
      "        3, 3, 3, 0, 0, 2, 3, 3, 3, 3, 1, 1, 3, 0, 1, 4, 1, 1, 1, 1, 1, 1, 0, 1,\n",
      "        0, 0, 2, 4, 4, 4, 3, 3, 3, 4, 0, 3, 3, 3, 3, 0, 3, 3, 4, 4, 4, 4, 4, 4,\n",
      "        0, 4, 3, 2, 0, 3, 4, 5, 0, 2, 2, 3, 3, 3, 3, 3, 2, 3, 5, 5, 4, 1, 4, 4,\n",
      "        4, 3, 4, 4, 0, 4, 4, 4, 5, 2, 2, 2, 2, 4, 6, 6, 6, 6, 3, 4, 4, 4, 1, 3,\n",
      "        0, 3, 3, 5, 0, 2, 3, 3, 3, 3, 3, 2, 4, 4, 0, 0, 3, 2, 6, 6, 0, 3, 3, 3,\n",
      "        5, 1, 3, 4, 4, 2, 4, 4, 4, 3, 3, 2, 2, 2, 2, 2, 2, 2, 2, 2, 2, 0, 2, 2,\n",
      "        2, 0, 6, 6, 5, 6, 6, 3, 2, 6, 3, 4, 4, 4, 2, 6, 6, 0, 0, 3, 0, 4, 4, 3,\n",
      "        2, 3, 1, 6, 6, 5, 3, 4, 3, 5, 3, 1, 1, 3, 4, 5, 2, 3, 3, 3, 4, 5, 4, 0,\n",
      "        3, 3, 0, 2, 1, 1, 5, 2, 3, 3, 5, 0, 2, 3, 2, 2, 5, 5, 4, 3, 4, 3, 2, 2,\n",
      "        4, 2, 4, 5, 5, 3, 2, 3, 1, 0, 3, 3, 4, 5, 4, 3, 3, 3, 3, 3, 0, 1, 2, 4,\n",
      "        4, 4, 3, 3, 3, 5, 2, 3, 2, 2, 2, 3, 2, 2, 0, 4, 4, 3, 3, 3, 3, 3, 3, 3,\n",
      "        3, 3, 3, 0, 0, 3, 0, 3, 0, 2, 3, 4, 1, 2, 5, 4, 3, 3, 3, 1, 5, 3, 4, 3,\n",
      "        2, 2, 1, 3, 3, 3, 3, 3, 6, 3, 3, 3, 6, 3, 3, 3, 2, 3, 2, 4, 2, 4, 2, 2,\n",
      "        1, 5, 6, 4, 3, 3, 3, 2, 5, 3, 3, 4, 3, 3, 3, 3, 3, 4, 6, 0, 3, 2, 2, 2,\n",
      "        5, 4, 4, 4, 4, 6, 3, 2, 2, 0, 2, 2, 2, 2, 2, 3, 4, 4, 4, 3, 3, 4, 4, 3,\n",
      "        3, 3, 4, 4, 4, 4, 4, 4, 3, 4, 4, 4, 4, 4, 4, 4, 4, 2, 3, 3, 3, 2, 6, 2,\n",
      "        3, 3, 4, 4, 3, 3, 3, 3, 3, 3, 0, 3, 3, 3, 3, 3], device='cuda:0')\n"
     ]
    }
   ],
   "source": [
    "print(data.y[data.test_mask])"
   ]
  },
  {
   "cell_type": "code",
   "execution_count": 31,
   "id": "ea74a48a",
   "metadata": {},
   "outputs": [],
   "source": [
    "class GAT(nn.Module):\n",
    "    def __init__(self, in_channels, out_channels):\n",
    "        super().__init__()\n",
    "        \n",
    "        self.conv1 = GATConv(in_channels, 8, heads=8, dropout=0.6)\n",
    "        self.conv2 = GATConv(8 * 8, out_channels, heads=1, concat=False, dropout=0.6)\n",
    "        \n",
    "    def forward(self, x, edge_index):\n",
    "        x = F.dropout(x, p=0.6, training=self.training)\n",
    "        x = F.elu(self.conv1(x, edge_index))\n",
    "        x = F.dropout(x, p=0.6, training=self.training)\n",
    "        x = self.conv2(x, edge_index)\n",
    "        return F.log_softmax(x, dim=1)"
   ]
  },
  {
   "cell_type": "code",
   "execution_count": 32,
   "id": "e80c03fe",
   "metadata": {},
   "outputs": [],
   "source": [
    "device = torch.device(\"cuda\" if torch.cuda.is_available() else \"cpu\")"
   ]
  },
  {
   "cell_type": "code",
   "execution_count": 33,
   "id": "9adf8920",
   "metadata": {},
   "outputs": [
    {
     "data": {
      "text/plain": [
       "device(type='cuda')"
      ]
     },
     "execution_count": 33,
     "metadata": {},
     "output_type": "execute_result"
    }
   ],
   "source": [
    "device"
   ]
  },
  {
   "cell_type": "code",
   "execution_count": 34,
   "id": "eb049315",
   "metadata": {},
   "outputs": [],
   "source": [
    "model = GAT(dataset.num_features, dataset.num_classes).to(device)"
   ]
  },
  {
   "cell_type": "code",
   "execution_count": 35,
   "id": "bdfd0ad6",
   "metadata": {},
   "outputs": [
    {
     "name": "stdout",
     "output_type": "stream",
     "text": [
      "GAT(\n",
      "  (conv1): GATConv(1433, 8, heads=8)\n",
      "  (conv2): GATConv(64, 7, heads=1)\n",
      ")\n"
     ]
    }
   ],
   "source": [
    "print(model)"
   ]
  },
  {
   "cell_type": "code",
   "execution_count": 36,
   "id": "511bf1f0",
   "metadata": {},
   "outputs": [],
   "source": [
    "data = data.to(device)"
   ]
  },
  {
   "cell_type": "code",
   "execution_count": 37,
   "id": "17a6b2c6",
   "metadata": {},
   "outputs": [
    {
     "data": {
      "text/plain": [
       "Data(edge_index=[2, 10556], test_mask=[2708], train_mask=[2708], val_mask=[2708], x=[2708, 1433], y=[2708])"
      ]
     },
     "execution_count": 37,
     "metadata": {},
     "output_type": "execute_result"
    }
   ],
   "source": [
    "data"
   ]
  },
  {
   "cell_type": "code",
   "execution_count": 38,
   "id": "5bf8a13c",
   "metadata": {},
   "outputs": [],
   "source": [
    "optimizer = torch.optim.Adam(model.parameters(), lr=0.005, weight_decay=5e-4)"
   ]
  },
  {
   "cell_type": "code",
   "execution_count": 39,
   "id": "69db6332",
   "metadata": {},
   "outputs": [],
   "source": [
    "def train(data):\n",
    "    model.train()\n",
    "    optimizer.zero_grad()\n",
    "    out = model(data.x, data.edge_index)\n",
    "    loss = F.nll_loss(out[data.train_mask], data.y[data.train_mask]) # 半监督\n",
    "    loss.backward()\n",
    "    optimizer.step()"
   ]
  },
  {
   "cell_type": "code",
   "execution_count": 42,
   "id": "57fbffd5",
   "metadata": {},
   "outputs": [],
   "source": [
    "@torch.no_grad()\n",
    "def test(data):\n",
    "    model.eval()\n",
    "    out, accs = model(data.x, data.edge_index), []\n",
    "    for _, mask in data('train_mask', 'val_mask', 'test_mask'):\n",
    "        acc = int((out[mask].argmax(-1) == data.y[mask]).sum())/ int(mask.sum())\n",
    "        accs.append(acc)\n",
    "    return accs"
   ]
  },
  {
   "cell_type": "code",
   "execution_count": 43,
   "id": "701dd2e6",
   "metadata": {},
   "outputs": [
    {
     "name": "stdout",
     "output_type": "stream",
     "text": [
      "Epoch: 001, Train: 0.9857, Val: 0.7980, Test: 0.8050\n",
      "Epoch: 002, Train: 0.9857, Val: 0.7960, Test: 0.8070\n",
      "Epoch: 003, Train: 0.9857, Val: 0.7960, Test: 0.8070\n",
      "Epoch: 004, Train: 0.9857, Val: 0.7960, Test: 0.8060\n",
      "Epoch: 005, Train: 0.9857, Val: 0.7920, Test: 0.8060\n",
      "Epoch: 006, Train: 0.9857, Val: 0.7940, Test: 0.8060\n",
      "Epoch: 007, Train: 0.9857, Val: 0.7980, Test: 0.8140\n",
      "Epoch: 008, Train: 0.9857, Val: 0.7980, Test: 0.8150\n",
      "Epoch: 009, Train: 0.9857, Val: 0.7960, Test: 0.8160\n",
      "Epoch: 010, Train: 0.9929, Val: 0.8000, Test: 0.8190\n",
      "Epoch: 011, Train: 0.9929, Val: 0.8060, Test: 0.8230\n",
      "Epoch: 012, Train: 0.9929, Val: 0.8120, Test: 0.8240\n",
      "Epoch: 013, Train: 0.9929, Val: 0.8200, Test: 0.8240\n",
      "Epoch: 014, Train: 0.9929, Val: 0.8200, Test: 0.8280\n",
      "Epoch: 015, Train: 0.9857, Val: 0.8180, Test: 0.8320\n",
      "Epoch: 016, Train: 0.9857, Val: 0.8160, Test: 0.8300\n",
      "Epoch: 017, Train: 0.9857, Val: 0.8120, Test: 0.8290\n",
      "Epoch: 018, Train: 0.9857, Val: 0.8120, Test: 0.8280\n",
      "Epoch: 019, Train: 0.9857, Val: 0.8080, Test: 0.8260\n",
      "Epoch: 020, Train: 0.9857, Val: 0.8100, Test: 0.8230\n",
      "Epoch: 021, Train: 0.9857, Val: 0.8020, Test: 0.8180\n",
      "Epoch: 022, Train: 0.9857, Val: 0.8000, Test: 0.8140\n",
      "Epoch: 023, Train: 0.9857, Val: 0.7960, Test: 0.8140\n",
      "Epoch: 024, Train: 0.9857, Val: 0.7940, Test: 0.8120\n",
      "Epoch: 025, Train: 0.9857, Val: 0.7940, Test: 0.8110\n",
      "Epoch: 026, Train: 0.9857, Val: 0.8000, Test: 0.8130\n",
      "Epoch: 027, Train: 0.9857, Val: 0.8000, Test: 0.8150\n",
      "Epoch: 028, Train: 0.9857, Val: 0.8000, Test: 0.8240\n",
      "Epoch: 029, Train: 0.9857, Val: 0.8020, Test: 0.8260\n",
      "Epoch: 030, Train: 0.9929, Val: 0.8060, Test: 0.8280\n",
      "Epoch: 031, Train: 0.9929, Val: 0.8080, Test: 0.8310\n",
      "Epoch: 032, Train: 0.9929, Val: 0.8060, Test: 0.8350\n",
      "Epoch: 033, Train: 0.9929, Val: 0.8060, Test: 0.8330\n",
      "Epoch: 034, Train: 0.9929, Val: 0.8100, Test: 0.8300\n",
      "Epoch: 035, Train: 0.9929, Val: 0.8080, Test: 0.8270\n",
      "Epoch: 036, Train: 0.9929, Val: 0.8080, Test: 0.8300\n",
      "Epoch: 037, Train: 0.9929, Val: 0.8080, Test: 0.8290\n",
      "Epoch: 038, Train: 0.9929, Val: 0.8080, Test: 0.8280\n",
      "Epoch: 039, Train: 0.9929, Val: 0.8060, Test: 0.8280\n",
      "Epoch: 040, Train: 0.9929, Val: 0.8020, Test: 0.8280\n",
      "Epoch: 041, Train: 0.9929, Val: 0.8020, Test: 0.8280\n",
      "Epoch: 042, Train: 0.9929, Val: 0.8000, Test: 0.8260\n",
      "Epoch: 043, Train: 0.9929, Val: 0.7980, Test: 0.8190\n",
      "Epoch: 044, Train: 0.9929, Val: 0.7940, Test: 0.8180\n",
      "Epoch: 045, Train: 0.9929, Val: 0.7980, Test: 0.8130\n",
      "Epoch: 046, Train: 0.9929, Val: 0.7940, Test: 0.8130\n",
      "Epoch: 047, Train: 0.9857, Val: 0.7920, Test: 0.8130\n",
      "Epoch: 048, Train: 0.9857, Val: 0.7900, Test: 0.8130\n",
      "Epoch: 049, Train: 0.9857, Val: 0.7900, Test: 0.8090\n",
      "Epoch: 050, Train: 0.9857, Val: 0.7880, Test: 0.8090\n",
      "Epoch: 051, Train: 0.9857, Val: 0.7880, Test: 0.8120\n",
      "Epoch: 052, Train: 0.9857, Val: 0.7920, Test: 0.8120\n",
      "Epoch: 053, Train: 0.9857, Val: 0.8000, Test: 0.8150\n",
      "Epoch: 054, Train: 0.9857, Val: 0.8000, Test: 0.8200\n",
      "Epoch: 055, Train: 0.9929, Val: 0.8000, Test: 0.8210\n",
      "Epoch: 056, Train: 0.9929, Val: 0.8000, Test: 0.8220\n",
      "Epoch: 057, Train: 0.9929, Val: 0.8000, Test: 0.8200\n",
      "Epoch: 058, Train: 0.9929, Val: 0.8000, Test: 0.8190\n",
      "Epoch: 059, Train: 0.9929, Val: 0.7960, Test: 0.8120\n",
      "Epoch: 060, Train: 0.9929, Val: 0.7980, Test: 0.8150\n",
      "Epoch: 061, Train: 0.9929, Val: 0.7980, Test: 0.8140\n",
      "Epoch: 062, Train: 0.9929, Val: 0.7960, Test: 0.8130\n",
      "Epoch: 063, Train: 0.9929, Val: 0.7980, Test: 0.8130\n",
      "Epoch: 064, Train: 0.9929, Val: 0.8000, Test: 0.8120\n",
      "Epoch: 065, Train: 0.9929, Val: 0.8000, Test: 0.8130\n",
      "Epoch: 066, Train: 0.9929, Val: 0.7980, Test: 0.8170\n",
      "Epoch: 067, Train: 0.9929, Val: 0.8020, Test: 0.8210\n",
      "Epoch: 068, Train: 0.9929, Val: 0.7980, Test: 0.8180\n",
      "Epoch: 069, Train: 0.9929, Val: 0.8000, Test: 0.8260\n",
      "Epoch: 070, Train: 1.0000, Val: 0.8000, Test: 0.8310\n",
      "Epoch: 071, Train: 1.0000, Val: 0.7960, Test: 0.8240\n",
      "Epoch: 072, Train: 1.0000, Val: 0.7980, Test: 0.8190\n",
      "Epoch: 073, Train: 1.0000, Val: 0.7980, Test: 0.8160\n",
      "Epoch: 074, Train: 1.0000, Val: 0.8000, Test: 0.8110\n",
      "Epoch: 075, Train: 1.0000, Val: 0.7980, Test: 0.8090\n",
      "Epoch: 076, Train: 1.0000, Val: 0.7940, Test: 0.8130\n",
      "Epoch: 077, Train: 1.0000, Val: 0.7960, Test: 0.8090\n",
      "Epoch: 078, Train: 0.9929, Val: 0.8000, Test: 0.8090\n",
      "Epoch: 079, Train: 0.9929, Val: 0.7980, Test: 0.8070\n",
      "Epoch: 080, Train: 0.9929, Val: 0.7940, Test: 0.8030\n",
      "Epoch: 081, Train: 0.9929, Val: 0.8000, Test: 0.8090\n",
      "Epoch: 082, Train: 0.9929, Val: 0.7960, Test: 0.8140\n",
      "Epoch: 083, Train: 0.9929, Val: 0.7940, Test: 0.8170\n",
      "Epoch: 084, Train: 0.9929, Val: 0.7960, Test: 0.8170\n",
      "Epoch: 085, Train: 0.9929, Val: 0.7980, Test: 0.8160\n",
      "Epoch: 086, Train: 0.9929, Val: 0.7960, Test: 0.8160\n",
      "Epoch: 087, Train: 0.9929, Val: 0.7920, Test: 0.8150\n",
      "Epoch: 088, Train: 0.9929, Val: 0.7960, Test: 0.8190\n",
      "Epoch: 089, Train: 0.9929, Val: 0.7960, Test: 0.8240\n",
      "Epoch: 090, Train: 0.9929, Val: 0.8080, Test: 0.8290\n",
      "Epoch: 091, Train: 1.0000, Val: 0.8040, Test: 0.8330\n",
      "Epoch: 092, Train: 1.0000, Val: 0.8020, Test: 0.8350\n",
      "Epoch: 093, Train: 1.0000, Val: 0.8020, Test: 0.8350\n",
      "Epoch: 094, Train: 1.0000, Val: 0.8000, Test: 0.8340\n",
      "Epoch: 095, Train: 1.0000, Val: 0.7980, Test: 0.8340\n",
      "Epoch: 096, Train: 1.0000, Val: 0.8000, Test: 0.8330\n",
      "Epoch: 097, Train: 0.9929, Val: 0.7980, Test: 0.8300\n",
      "Epoch: 098, Train: 0.9929, Val: 0.8000, Test: 0.8220\n",
      "Epoch: 099, Train: 0.9929, Val: 0.7980, Test: 0.8160\n",
      "Epoch: 100, Train: 0.9929, Val: 0.7960, Test: 0.8150\n",
      "Epoch: 101, Train: 0.9929, Val: 0.7960, Test: 0.8150\n",
      "Epoch: 102, Train: 0.9929, Val: 0.7980, Test: 0.8140\n",
      "Epoch: 103, Train: 0.9929, Val: 0.8000, Test: 0.8170\n",
      "Epoch: 104, Train: 0.9929, Val: 0.8020, Test: 0.8190\n",
      "Epoch: 105, Train: 0.9929, Val: 0.7980, Test: 0.8180\n",
      "Epoch: 106, Train: 0.9929, Val: 0.7960, Test: 0.8190\n",
      "Epoch: 107, Train: 0.9929, Val: 0.8000, Test: 0.8180\n",
      "Epoch: 108, Train: 0.9929, Val: 0.8000, Test: 0.8170\n",
      "Epoch: 109, Train: 0.9929, Val: 0.8000, Test: 0.8170\n",
      "Epoch: 110, Train: 0.9929, Val: 0.7980, Test: 0.8170\n",
      "Epoch: 111, Train: 0.9929, Val: 0.7980, Test: 0.8150\n",
      "Epoch: 112, Train: 0.9929, Val: 0.7980, Test: 0.8150\n",
      "Epoch: 113, Train: 0.9929, Val: 0.7940, Test: 0.8200\n",
      "Epoch: 114, Train: 0.9929, Val: 0.7960, Test: 0.8220\n",
      "Epoch: 115, Train: 0.9929, Val: 0.8000, Test: 0.8220\n",
      "Epoch: 116, Train: 0.9929, Val: 0.7980, Test: 0.8220\n",
      "Epoch: 117, Train: 0.9929, Val: 0.8060, Test: 0.8190\n",
      "Epoch: 118, Train: 0.9929, Val: 0.8100, Test: 0.8170\n",
      "Epoch: 119, Train: 0.9929, Val: 0.8100, Test: 0.8160\n",
      "Epoch: 120, Train: 0.9929, Val: 0.8080, Test: 0.8160\n",
      "Epoch: 121, Train: 0.9929, Val: 0.8000, Test: 0.8160\n",
      "Epoch: 122, Train: 0.9929, Val: 0.8040, Test: 0.8180\n",
      "Epoch: 123, Train: 0.9929, Val: 0.8040, Test: 0.8210\n",
      "Epoch: 124, Train: 0.9929, Val: 0.8020, Test: 0.8230\n",
      "Epoch: 125, Train: 0.9929, Val: 0.8000, Test: 0.8230\n",
      "Epoch: 126, Train: 0.9929, Val: 0.8000, Test: 0.8240\n",
      "Epoch: 127, Train: 0.9929, Val: 0.8020, Test: 0.8250\n",
      "Epoch: 128, Train: 0.9929, Val: 0.8040, Test: 0.8250\n",
      "Epoch: 129, Train: 0.9929, Val: 0.7980, Test: 0.8250\n",
      "Epoch: 130, Train: 0.9929, Val: 0.8000, Test: 0.8260\n",
      "Epoch: 131, Train: 0.9929, Val: 0.8000, Test: 0.8250\n",
      "Epoch: 132, Train: 0.9929, Val: 0.8000, Test: 0.8250\n",
      "Epoch: 133, Train: 0.9929, Val: 0.8000, Test: 0.8270\n",
      "Epoch: 134, Train: 0.9929, Val: 0.7940, Test: 0.8220\n",
      "Epoch: 135, Train: 0.9929, Val: 0.7900, Test: 0.8240\n",
      "Epoch: 136, Train: 0.9929, Val: 0.7940, Test: 0.8210\n",
      "Epoch: 137, Train: 0.9929, Val: 0.7900, Test: 0.8200\n",
      "Epoch: 138, Train: 0.9929, Val: 0.7900, Test: 0.8210\n",
      "Epoch: 139, Train: 0.9929, Val: 0.7880, Test: 0.8190\n",
      "Epoch: 140, Train: 0.9929, Val: 0.7940, Test: 0.8200\n",
      "Epoch: 141, Train: 0.9929, Val: 0.7980, Test: 0.8210\n",
      "Epoch: 142, Train: 0.9929, Val: 0.7980, Test: 0.8200\n",
      "Epoch: 143, Train: 0.9929, Val: 0.8000, Test: 0.8200\n",
      "Epoch: 144, Train: 0.9929, Val: 0.8040, Test: 0.8260\n",
      "Epoch: 145, Train: 0.9929, Val: 0.8060, Test: 0.8290\n",
      "Epoch: 146, Train: 0.9929, Val: 0.8100, Test: 0.8290\n",
      "Epoch: 147, Train: 0.9929, Val: 0.8080, Test: 0.8310\n",
      "Epoch: 148, Train: 0.9929, Val: 0.8060, Test: 0.8350\n",
      "Epoch: 149, Train: 1.0000, Val: 0.8140, Test: 0.8360\n",
      "Epoch: 150, Train: 1.0000, Val: 0.8160, Test: 0.8350\n",
      "Epoch: 151, Train: 1.0000, Val: 0.8180, Test: 0.8380\n",
      "Epoch: 152, Train: 1.0000, Val: 0.8180, Test: 0.8370\n",
      "Epoch: 153, Train: 1.0000, Val: 0.8100, Test: 0.8340\n",
      "Epoch: 154, Train: 1.0000, Val: 0.8100, Test: 0.8320\n",
      "Epoch: 155, Train: 1.0000, Val: 0.8040, Test: 0.8280\n",
      "Epoch: 156, Train: 1.0000, Val: 0.8020, Test: 0.8280\n",
      "Epoch: 157, Train: 1.0000, Val: 0.7980, Test: 0.8250\n",
      "Epoch: 158, Train: 0.9929, Val: 0.7960, Test: 0.8200\n",
      "Epoch: 159, Train: 0.9929, Val: 0.7960, Test: 0.8150\n",
      "Epoch: 160, Train: 0.9929, Val: 0.7960, Test: 0.8130\n",
      "Epoch: 161, Train: 0.9929, Val: 0.7960, Test: 0.8060\n",
      "Epoch: 162, Train: 0.9929, Val: 0.7960, Test: 0.8060\n",
      "Epoch: 163, Train: 0.9929, Val: 0.7940, Test: 0.8030\n",
      "Epoch: 164, Train: 0.9929, Val: 0.7940, Test: 0.8060\n",
      "Epoch: 165, Train: 0.9929, Val: 0.7980, Test: 0.8090\n",
      "Epoch: 166, Train: 0.9929, Val: 0.7980, Test: 0.8170\n",
      "Epoch: 167, Train: 0.9929, Val: 0.8060, Test: 0.8240\n",
      "Epoch: 168, Train: 0.9929, Val: 0.8080, Test: 0.8260\n"
     ]
    },
    {
     "name": "stdout",
     "output_type": "stream",
     "text": [
      "Epoch: 169, Train: 1.0000, Val: 0.8040, Test: 0.8270\n",
      "Epoch: 170, Train: 1.0000, Val: 0.8020, Test: 0.8270\n",
      "Epoch: 171, Train: 1.0000, Val: 0.8000, Test: 0.8290\n",
      "Epoch: 172, Train: 1.0000, Val: 0.8000, Test: 0.8300\n",
      "Epoch: 173, Train: 1.0000, Val: 0.8020, Test: 0.8280\n",
      "Epoch: 174, Train: 1.0000, Val: 0.8000, Test: 0.8270\n",
      "Epoch: 175, Train: 0.9929, Val: 0.8000, Test: 0.8260\n",
      "Epoch: 176, Train: 0.9929, Val: 0.8040, Test: 0.8240\n",
      "Epoch: 177, Train: 0.9929, Val: 0.8000, Test: 0.8230\n",
      "Epoch: 178, Train: 0.9929, Val: 0.7960, Test: 0.8240\n",
      "Epoch: 179, Train: 0.9929, Val: 0.8000, Test: 0.8230\n",
      "Epoch: 180, Train: 0.9929, Val: 0.8000, Test: 0.8220\n",
      "Epoch: 181, Train: 1.0000, Val: 0.8020, Test: 0.8230\n",
      "Epoch: 182, Train: 1.0000, Val: 0.8080, Test: 0.8250\n",
      "Epoch: 183, Train: 1.0000, Val: 0.8140, Test: 0.8260\n",
      "Epoch: 184, Train: 1.0000, Val: 0.8140, Test: 0.8310\n",
      "Epoch: 185, Train: 1.0000, Val: 0.8080, Test: 0.8260\n",
      "Epoch: 186, Train: 1.0000, Val: 0.8080, Test: 0.8260\n",
      "Epoch: 187, Train: 1.0000, Val: 0.8040, Test: 0.8270\n",
      "Epoch: 188, Train: 1.0000, Val: 0.8040, Test: 0.8240\n",
      "Epoch: 189, Train: 0.9929, Val: 0.8020, Test: 0.8240\n",
      "Epoch: 190, Train: 0.9929, Val: 0.7980, Test: 0.8210\n",
      "Epoch: 191, Train: 0.9929, Val: 0.7960, Test: 0.8220\n",
      "Epoch: 192, Train: 0.9929, Val: 0.7920, Test: 0.8180\n",
      "Epoch: 193, Train: 0.9929, Val: 0.7940, Test: 0.8190\n",
      "Epoch: 194, Train: 0.9929, Val: 0.7900, Test: 0.8200\n",
      "Epoch: 195, Train: 0.9929, Val: 0.7940, Test: 0.8190\n",
      "Epoch: 196, Train: 0.9929, Val: 0.7920, Test: 0.8220\n",
      "Epoch: 197, Train: 1.0000, Val: 0.7920, Test: 0.8200\n",
      "Epoch: 198, Train: 1.0000, Val: 0.7940, Test: 0.8240\n",
      "Epoch: 199, Train: 1.0000, Val: 0.8000, Test: 0.8240\n",
      "Epoch: 200, Train: 1.0000, Val: 0.8000, Test: 0.8250\n"
     ]
    }
   ],
   "source": [
    "for epoch in range(1, 201):\n",
    "    train(data)\n",
    "    train_acc, val_acc, test_acc = test(data)\n",
    "    print(f'Epoch: {epoch:03d}, Train: {train_acc:.4f}, Val: {val_acc:.4f}, '\n",
    "          f'Test: {test_acc:.4f}')"
   ]
  },
  {
   "cell_type": "code",
   "execution_count": null,
   "id": "5fc51c27",
   "metadata": {},
   "outputs": [],
   "source": []
  }
 ],
 "metadata": {
  "kernelspec": {
   "display_name": "Python 3.7.9 64-bit ('nlp': conda)",
   "language": "python",
   "name": "python37964bitnlpconda05abd83d080740e5b89339cae7231386"
  },
  "language_info": {
   "codemirror_mode": {
    "name": "ipython",
    "version": 3
   },
   "file_extension": ".py",
   "mimetype": "text/x-python",
   "name": "python",
   "nbconvert_exporter": "python",
   "pygments_lexer": "ipython3",
   "version": "3.7.9"
  }
 },
 "nbformat": 4,
 "nbformat_minor": 5
}
