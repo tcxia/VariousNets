{
 "cells": [
  {
   "cell_type": "markdown",
   "id": "b61b79b8",
   "metadata": {},
   "source": [
    "torch_geometric:主模块 <br>\n",
    "torch_geometric.nn: 搭建图神经网络层 <br>\n",
    "torch_geometric.data: 图结构数据的表示 <br>\n",
    "torch_geometric.loader: 加载数据集 <br>\n",
    "torch_geometric.datasets: 常用图神经网络数据集 <br>\n",
    "torch_geometric.transforms: 数据变换 <br>\n",
    "torch_geometric.utils: 常用工具 <br>\n",
    "torch_geometric.graphgym: 常用的图神经网络模型 <br>\n",
    "torch_geometric.profile: 监督模型的训练 <br>"
   ]
  },
  {
   "cell_type": "markdown",
   "id": "5df2c5b3",
   "metadata": {},
   "source": [
    "## 图数据的处理\n",
    "\n",
    "PyG使用torch_geometric.data.Data保存图结构的数据，导入的data包含以下属性:\n",
    "+ data.x: 图节点的属性信息，维度为: [num_nodes, num_node_features]\n",
    "+ data.edge_index: COO格式的图节点连接信息，类型为torch.long, 维度为: [2, num_egdes]\n",
    "+ data.edge_attr: 图中边的属性信息，维度为: [num_edges, num_edge_features]\n",
    "+ data.y: 标签信息，如果分类任务，维度为[num_edges, 类别数], 如果是整图分类任务，维度为[1, 类别数]\n",
    "+ data.pos: 节点的位置信息（一般用于图结构数据的可视化）\n",
    "\n",
    "除了以上属性，还可以通过data.face自定义属性"
   ]
  },
  {
   "cell_type": "markdown",
   "id": "3428207c",
   "metadata": {},
   "source": [
    "PyG处理以下图"
   ]
  },
  {
   "cell_type": "markdown",
   "id": "0b3e1c3a",
   "metadata": {},
   "source": [
    "![graph1](https://tva1.sinaimg.cn/large/006C3FgEgy1gxgy50z26ej30ni09yt94.jpg)"
   ]
  },
  {
   "cell_type": "code",
   "execution_count": 1,
   "id": "f97bfb32",
   "metadata": {},
   "outputs": [],
   "source": [
    "import torch\n",
    "import torch_geometric\n",
    "from torch_geometric.data import Data"
   ]
  },
  {
   "cell_type": "code",
   "execution_count": 3,
   "id": "32754c3c",
   "metadata": {},
   "outputs": [],
   "source": [
    "# 边的连接信息\n",
    "# 注意，无向图的边要定义两次\n",
    "edge_index = torch.tensor([\n",
    "    # 这里表示节点0和1有连接，因为是无向图\n",
    "    # 那么1和0也有连接\n",
    "    [0, 1, 1, 2],\n",
    "    [1, 0, 2, 1],\n",
    "], # 指定数据类型\n",
    "    dtype=torch.long)"
   ]
  },
  {
   "cell_type": "code",
   "execution_count": 4,
   "id": "405557b3",
   "metadata": {},
   "outputs": [],
   "source": [
    "# 节点的属性信息\n",
    "x = torch.tensor([\n",
    "    # 三个节点\n",
    "    # 每个节点的属性向量维度为1\n",
    "    [-1],\n",
    "    [0],\n",
    "    [1],\n",
    "])"
   ]
  },
  {
   "cell_type": "code",
   "execution_count": 5,
   "id": "aa46e215",
   "metadata": {},
   "outputs": [],
   "source": [
    "data = Data(x=x, edge_index=edge_index)"
   ]
  },
  {
   "cell_type": "code",
   "execution_count": 6,
   "id": "4e779eee",
   "metadata": {},
   "outputs": [
    {
     "data": {
      "text/plain": [
       "Data(edge_index=[2, 4], x=[3, 1])"
      ]
     },
     "execution_count": 6,
     "metadata": {},
     "output_type": "execute_result"
    }
   ],
   "source": [
    "data"
   ]
  },
  {
   "cell_type": "code",
   "execution_count": 8,
   "id": "cb6e9756",
   "metadata": {},
   "outputs": [
    {
     "name": "stdout",
     "output_type": "stream",
     "text": [
      "Data(edge_index=[2, 4], x=[3, 1])\n"
     ]
    }
   ],
   "source": [
    "print(data) # 查看图数据"
   ]
  },
  {
   "cell_type": "code",
   "execution_count": 10,
   "id": "bc8e08cf",
   "metadata": {},
   "outputs": [
    {
     "name": "stdout",
     "output_type": "stream",
     "text": [
      "['x', 'edge_index']\n"
     ]
    }
   ],
   "source": [
    "print(data.keys) # 图中包含的信息"
   ]
  },
  {
   "cell_type": "code",
   "execution_count": 12,
   "id": "d9805171",
   "metadata": {},
   "outputs": [
    {
     "data": {
      "text/plain": [
       "tensor([[-1],\n",
       "        [ 0],\n",
       "        [ 1]])"
      ]
     },
     "execution_count": 12,
     "metadata": {},
     "output_type": "execute_result"
    }
   ],
   "source": [
    "data.x # 节点的属性信息"
   ]
  },
  {
   "cell_type": "code",
   "execution_count": 13,
   "id": "5bdafe2d",
   "metadata": {},
   "outputs": [
    {
     "data": {
      "text/plain": [
       "tensor([[-1],\n",
       "        [ 0],\n",
       "        [ 1]])"
      ]
     },
     "execution_count": 13,
     "metadata": {},
     "output_type": "execute_result"
    }
   ],
   "source": [
    "data['x']"
   ]
  },
  {
   "cell_type": "code",
   "execution_count": 15,
   "id": "5fd42973",
   "metadata": {},
   "outputs": [
    {
     "data": {
      "text/plain": [
       "3"
      ]
     },
     "execution_count": 15,
     "metadata": {},
     "output_type": "execute_result"
    }
   ],
   "source": [
    "data.num_nodes # 节点数"
   ]
  },
  {
   "cell_type": "code",
   "execution_count": 16,
   "id": "4932655e",
   "metadata": {},
   "outputs": [
    {
     "data": {
      "text/plain": [
       "4"
      ]
     },
     "execution_count": 16,
     "metadata": {},
     "output_type": "execute_result"
    }
   ],
   "source": [
    "data.num_edges # 边数"
   ]
  },
  {
   "cell_type": "code",
   "execution_count": 18,
   "id": "ae03362f",
   "metadata": {},
   "outputs": [
    {
     "data": {
      "text/plain": [
       "1"
      ]
     },
     "execution_count": 18,
     "metadata": {},
     "output_type": "execute_result"
    }
   ],
   "source": [
    "data.num_node_features # 节点属性向量的维度"
   ]
  },
  {
   "cell_type": "code",
   "execution_count": 27,
   "id": "b3ebfe6b",
   "metadata": {},
   "outputs": [
    {
     "name": "stdout",
     "output_type": "stream",
     "text": [
      "False\n"
     ]
    }
   ],
   "source": [
    "print(data.contains_isolated_nodes()) # 是否有孤立点"
   ]
  },
  {
   "cell_type": "code",
   "execution_count": 28,
   "id": "ee131c91",
   "metadata": {},
   "outputs": [
    {
     "data": {
      "text/plain": [
       "False"
      ]
     },
     "execution_count": 28,
     "metadata": {},
     "output_type": "execute_result"
    }
   ],
   "source": [
    "data.contains_self_loops() # 是否有环"
   ]
  },
  {
   "cell_type": "code",
   "execution_count": 29,
   "id": "b5f827eb",
   "metadata": {},
   "outputs": [
    {
     "data": {
      "text/plain": [
       "False"
      ]
     },
     "execution_count": 29,
     "metadata": {},
     "output_type": "execute_result"
    }
   ],
   "source": [
    "data.is_directed() # 是否是有向图"
   ]
  },
  {
   "cell_type": "code",
   "execution_count": 18,
   "id": "514305b6",
   "metadata": {},
   "outputs": [],
   "source": [
    "# dir(data)"
   ]
  },
  {
   "cell_type": "code",
   "execution_count": 31,
   "id": "69a6305a",
   "metadata": {},
   "outputs": [
    {
     "name": "stdout",
     "output_type": "stream",
     "text": [
      "Downloading https://www.chrsmrrs.com/graphkerneldatasets/ENZYMES.zip\n",
      "Extracting data/ENZYMES/ENZYMES/ENZYMES.zip\n",
      "Processing...\n",
      "Done!\n"
     ]
    }
   ],
   "source": [
    "from torch_geometric.datasets import TUDataset\n",
    "\n",
    "dataset = TUDataset(\n",
    "    root = './data/ENZYMES',\n",
    "    name = 'ENZYMES',\n",
    ")\n"
   ]
  },
  {
   "cell_type": "code",
   "execution_count": 38,
   "id": "76d2d22f",
   "metadata": {},
   "outputs": [
    {
     "data": {
      "text/plain": [
       "600"
      ]
     },
     "execution_count": 38,
     "metadata": {},
     "output_type": "execute_result"
    }
   ],
   "source": [
    "len(dataset) # 总的图数"
   ]
  },
  {
   "cell_type": "code",
   "execution_count": 19,
   "id": "b8c043bf",
   "metadata": {},
   "outputs": [],
   "source": [
    "# dir(dataset)"
   ]
  },
  {
   "cell_type": "code",
   "execution_count": 35,
   "id": "1b19b000",
   "metadata": {},
   "outputs": [
    {
     "data": {
      "text/plain": [
       "6"
      ]
     },
     "execution_count": 35,
     "metadata": {},
     "output_type": "execute_result"
    }
   ],
   "source": [
    "dataset.num_classes # 类别数"
   ]
  },
  {
   "cell_type": "code",
   "execution_count": 36,
   "id": "8595a56a",
   "metadata": {},
   "outputs": [
    {
     "data": {
      "text/plain": [
       "3"
      ]
     },
     "execution_count": 36,
     "metadata": {},
     "output_type": "execute_result"
    }
   ],
   "source": [
    "dataset.num_node_features # 节点属性的维度"
   ]
  },
  {
   "cell_type": "code",
   "execution_count": 37,
   "id": "7f2a6b32",
   "metadata": {},
   "outputs": [],
   "source": [
    "data = dataset[0] # 选择第一个图"
   ]
  },
  {
   "cell_type": "code",
   "execution_count": 39,
   "id": "2098c2ae",
   "metadata": {},
   "outputs": [
    {
     "data": {
      "text/plain": [
       "Data(edge_index=[2, 168], x=[37, 3], y=[1])"
      ]
     },
     "execution_count": 39,
     "metadata": {},
     "output_type": "execute_result"
    }
   ],
   "source": [
    "data"
   ]
  },
  {
   "cell_type": "code",
   "execution_count": 40,
   "id": "848d1db2",
   "metadata": {},
   "outputs": [],
   "source": [
    "dataset = dataset.shuffle()"
   ]
  },
  {
   "cell_type": "code",
   "execution_count": 41,
   "id": "83360f32",
   "metadata": {},
   "outputs": [
    {
     "data": {
      "text/plain": [
       "Data(edge_index=[2, 100], x=[26, 3], y=[1])"
      ]
     },
     "execution_count": 41,
     "metadata": {},
     "output_type": "execute_result"
    }
   ],
   "source": [
    "dataset[0]"
   ]
  },
  {
   "cell_type": "markdown",
   "id": "d8938079",
   "metadata": {},
   "source": [
    "### 加载数据集\n",
    "\n",
    "图神经网络训练的时候一般将一部分数据到内存中进行训练，叫做一个batch\n",
    "\n",
    "![graph2](https://tva1.sinaimg.cn/large/006C3FgEgy1gxgy510inyj30u0078ab7.jpg)"
   ]
  },
  {
   "cell_type": "code",
   "execution_count": 16,
   "id": "e1419688",
   "metadata": {},
   "outputs": [],
   "source": [
    "from torch_geometric.loader import DataLoader\n",
    "from torch_geometric.datasets import TUDataset\n",
    "\n",
    "dataset = TUDataset(\n",
    "    root = './data/ENZYMES',\n",
    "    name = 'ENZYMES',\n",
    "    use_node_attr=True,\n",
    ")\n",
    "\n",
    "loader = DataLoader(\n",
    "    # 待加载的数据集\n",
    "    dataset=dataset,\n",
    "    # 每次加载32个，总共600个图\n",
    "    batch_size=32,\n",
    "    # 每次加载进来之后是否随机打乱\n",
    "    shuffle=True,\n",
    ")"
   ]
  },
  {
   "cell_type": "code",
   "execution_count": 17,
   "id": "5a0c95de",
   "metadata": {},
   "outputs": [
    {
     "name": "stdout",
     "output_type": "stream",
     "text": [
      "DataBatch(edge_index=[2, 3996], x=[1053, 21], y=[32], batch=[1053], ptr=[33])\n",
      "32\n",
      "DataBatch(edge_index=[2, 3884], x=[977, 21], y=[32], batch=[977], ptr=[33])\n",
      "32\n",
      "DataBatch(edge_index=[2, 3856], x=[995, 21], y=[32], batch=[995], ptr=[33])\n",
      "32\n",
      "DataBatch(edge_index=[2, 3818], x=[963, 21], y=[32], batch=[963], ptr=[33])\n",
      "32\n",
      "DataBatch(edge_index=[2, 4330], x=[1136, 21], y=[32], batch=[1136], ptr=[33])\n",
      "32\n",
      "DataBatch(edge_index=[2, 3580], x=[993, 21], y=[32], batch=[993], ptr=[33])\n",
      "32\n",
      "DataBatch(edge_index=[2, 4122], x=[1144, 21], y=[32], batch=[1144], ptr=[33])\n",
      "32\n",
      "DataBatch(edge_index=[2, 4010], x=[1048, 21], y=[32], batch=[1048], ptr=[33])\n",
      "32\n",
      "DataBatch(edge_index=[2, 4110], x=[1199, 21], y=[32], batch=[1199], ptr=[33])\n",
      "32\n",
      "DataBatch(edge_index=[2, 4022], x=[1064, 21], y=[32], batch=[1064], ptr=[33])\n",
      "32\n",
      "DataBatch(edge_index=[2, 4048], x=[1049, 21], y=[32], batch=[1049], ptr=[33])\n",
      "32\n",
      "DataBatch(edge_index=[2, 3970], x=[1053, 21], y=[32], batch=[1053], ptr=[33])\n",
      "32\n",
      "DataBatch(edge_index=[2, 4210], x=[1093, 21], y=[32], batch=[1093], ptr=[33])\n",
      "32\n",
      "DataBatch(edge_index=[2, 4126], x=[1070, 21], y=[32], batch=[1070], ptr=[33])\n",
      "32\n",
      "DataBatch(edge_index=[2, 3598], x=[939, 21], y=[32], batch=[939], ptr=[33])\n",
      "32\n",
      "DataBatch(edge_index=[2, 4358], x=[1132, 21], y=[32], batch=[1132], ptr=[33])\n",
      "32\n",
      "DataBatch(edge_index=[2, 3814], x=[960, 21], y=[32], batch=[960], ptr=[33])\n",
      "32\n",
      "DataBatch(edge_index=[2, 3954], x=[1010, 21], y=[32], batch=[1010], ptr=[33])\n",
      "32\n",
      "DataBatch(edge_index=[2, 2758], x=[702, 21], y=[24], batch=[702], ptr=[25])\n",
      "24\n"
     ]
    }
   ],
   "source": [
    "for batch in loader:\n",
    "    print(batch)\n",
    "    print(batch.num_graphs)"
   ]
  },
  {
   "cell_type": "code",
   "execution_count": 15,
   "id": "83295609",
   "metadata": {},
   "outputs": [
    {
     "data": {
      "text/plain": [
       "600"
      ]
     },
     "execution_count": 15,
     "metadata": {},
     "output_type": "execute_result"
    }
   ],
   "source": [
    "len(dataset)"
   ]
  },
  {
   "cell_type": "code",
   "execution_count": 11,
   "id": "ff1d470f",
   "metadata": {},
   "outputs": [],
   "source": [
    "# dir(torch_geometric)"
   ]
  },
  {
   "cell_type": "code",
   "execution_count": 9,
   "id": "d46a9592",
   "metadata": {},
   "outputs": [],
   "source": [
    "# torch_geometric.__version__"
   ]
  },
  {
   "cell_type": "markdown",
   "id": "9aeb3cc9",
   "metadata": {},
   "source": [
    "### 空域图卷积的建立"
   ]
  },
  {
   "cell_type": "markdown",
   "id": "5f7c8cd3",
   "metadata": {},
   "source": [
    "#### GCN的实现\n",
    "\n",
    "![gcn公式](https://tva1.sinaimg.cn/large/006C3FgEgy1gxgy512kcoj30u00580ue.jpg)\n",
    "\n",
    "其中，$\\theta$是可学习的参数矩阵，然后用节点的度进行正则化，最后所有的信息相加，作为当前节点新的特征表示.\n",
    "$\\gamma$是一个求和函数，$\\phi$是一个线性变换+正则化"
   ]
  },
  {
   "cell_type": "markdown",
   "id": "0d3f7e7a",
   "metadata": {},
   "source": [
    "## 自建数据集\n",
    "\n",
    "PyG将数据集分为两个文件夹---- raw_dir、processed_dir。\n",
    "+ raw_dir是原始数据集\n",
    "+ processed_dir是PyG处理后\n",
    "\n",
    "PyG对于数据集有三种过滤方法---- transform、pre_transform、pre_filter\n",
    "+ transform: 读取数据，然后对齐进行变换\n",
    "+ pre_transform: 对于整个数据集进行变换，然后将变换之后的数据进行存储，pre_filter同理\n",
    "\n",
    "PyG将数据集分为两种类型:\n",
    "+ torch_geometric.data.InMemoryDataset: 能够完全放入内存中的 \n",
    "+ torch_geometric.data.Dataset: 不能够完全放入内存的"
   ]
  },
  {
   "cell_type": "markdown",
   "id": "2d0bb24a",
   "metadata": {},
   "source": [
    "1. 创建能完全放入内存中的图数据集需要做4件事\n",
    "+ 实现torch_geometric.data.InMemoryDataset.raw_file_names(): 告诉PyG数据集放在哪里\n",
    "+ 实现torch_geometric.data.InMemoryDataset.processed_file_names(): 告诉PyG数据集处理完之后放在哪里\n",
    "+ 实现torch_geometric.data.InMemoryDataset.download(): 告诉PyG从哪里获取数据集\n",
    "+ 实现torch_geometric.data.InMemoryDataset.process(): 告诉PyG如何处理你的数据集"
   ]
  },
  {
   "cell_type": "code",
   "execution_count": 24,
   "id": "93cb52a6",
   "metadata": {},
   "outputs": [],
   "source": [
    "# 通用的模板如下\n",
    "\n",
    "import torch  \n",
    "from torch_geometric.data import InMemoryDataset, download_url\n",
    "\n",
    "  \n",
    "# 实现In Memory Dataset的通用模板  \n",
    "class MyDataset(InMemoryDataset):  \n",
    "    # 初始化  \n",
    "    def __init__(self, root, transfrom=None, pre_transform=None):  \n",
    "        # root是数据集的根目录  \n",
    "        super(MyDataset, self).__init__(root, transfrom, pre_transform)  \n",
    "        # 加载数据集  \n",
    "        self.data, self.slices = torch.load(self.processed_paths[0])  \n",
    "  \n",
    "    # -> Union[str, List[str], Tuple]\n",
    "    def raw_file_names(self) :  \n",
    "        return ['file_1', 'file_2', ...]  \n",
    "  \n",
    "    #  -> Union[str, List[str], Tuple]\n",
    "    def processed_file_names(self):  \n",
    "        return ['data.pt']  \n",
    "  \n",
    "    def download(self):  \n",
    "        # 将数据集下载到raw_dir文件夹中  \n",
    "        download_url(url, self.raw_dir)  \n",
    "  \n",
    "    def process(self):  \n",
    "        data_list = [...]  \n",
    "        # 进行数据过滤  \n",
    "        if self.pre_filter is not None:  \n",
    "            data_list = [data for data in data_list if self.pre_filter(data)]  \n",
    "        if self.pre_transform is not None:  \n",
    "            data_list = [self.pre_transform(data) for data in data_list]  \n",
    "        # self.collate将所有数据组合在一起,加速存储  \n",
    "        # data是组合之后的数据  \n",
    "        # slices是分割方式，告诉PyG如何将data还原为原先的数据  \n",
    "        data, slices = self.collate(data_list)  \n",
    "        # 保存数据  \n",
    "        torch.save((data, slices), self.processed_paths[0]) "
   ]
  },
  {
   "cell_type": "markdown",
   "id": "de11050f",
   "metadata": {},
   "source": [
    "2. 创建无法完全放入内存的数据集\n",
    "\n",
    "类似Pytorch中的Dataset了，在上面需要做的几件事的基础上还需要\n",
    "+ 实现torch_geometric.data.Dataset.len(): 告诉PyG数据集有多大\n",
    "+ 实现torch_geometric.data.Dataset.get(): 告诉PyG如何从数据集中获取一个数据"
   ]
  },
  {
   "cell_type": "code",
   "execution_count": 25,
   "id": "0e61fe85",
   "metadata": {},
   "outputs": [],
   "source": [
    "# 通用模板\n",
    "import os.path as osp  \n",
    "import torch  \n",
    "from torch_geometric.data import Dataset, download_url  \n",
    "\n",
    "class MyDataset(Dataset):  \n",
    "    # 初始化  \n",
    "    def __init__(self, root, transform=None, pre_transform=None):  \n",
    "        super(MyDataset, self).__init__(root, transform, pre_transform)  \n",
    "  \n",
    "    # -> Union[str, List[str], Tuple]\n",
    "    def raw_file_names(self):  \n",
    "        return ['file_1', 'file_2', ...]  \n",
    "  \n",
    "    #  -> Union[str, List[str], Tuple]\n",
    "    def processed_file_names(self):  \n",
    "        return ['data_1.pt', ...]  \n",
    "  \n",
    "    def download(self):  \n",
    "        path = download_url(url, self.raw_dir)  \n",
    "  \n",
    "    def process(self):  \n",
    "        i = 0  \n",
    "        for raw_path in self.raw_paths:  \n",
    "            # 读取数据  \n",
    "            data = Data(...)  \n",
    "            # 过滤数据集  \n",
    "            if self.pre_filter is not None and not self.pre_filter(data):  \n",
    "                pass  \n",
    "            if self.pre_transform is not None:  \n",
    "                data = self.pre_transform(data)  \n",
    "            # 保存数据  \n",
    "            torch.save(data, osp.join(self.processed_dir, 'data_{}.pt'.format(i)))  \n",
    "            i += 1  \n",
    "  \n",
    "    def len(self):  \n",
    "        return len(self.processed_file_names)  \n",
    "  \n",
    "    def get(self,idx):  \n",
    "        data = torch.load(osp.join(self.processed_dir, 'data_{}.pt'.format(idx)))  \n",
    "        return data  "
   ]
  },
  {
   "cell_type": "markdown",
   "id": "eadc74ef",
   "metadata": {},
   "source": [
    "## 批处理"
   ]
  },
  {
   "cell_type": "code",
   "execution_count": 3,
   "id": "d1b9a06c",
   "metadata": {},
   "outputs": [],
   "source": [
    "from typing import Any\n",
    "import torch\n",
    "from torch_geometric.data import Data\n",
    "from torch_geometric.loader import DataLoader\n",
    "\n",
    "\n",
    "# 定义图数据  \n",
    "class PairData(Data):  \n",
    "    def __init__(self, edge_index_s=None, x_s=None, edge_index_t=None, x_t=None):  \n",
    "        # 每个数据中包含两个图s,t  \n",
    "        \"\"\"  \n",
    "        :param edge_index_s: 图s的连接关系  \n",
    "        :param x_s: 图s的节点属性矩阵  \n",
    "        :param edge_index_t: 图t的连接关系  \n",
    "        :param x_t: 图t的节点属性矩阵  \n",
    "        \"\"\"  \n",
    "        super(PairData, self).__init__()  \n",
    "        self.edge_index_s = edge_index_s  \n",
    "        self.x_s = x_s  \n",
    "        self.edge_index_t = edge_index_t  \n",
    "        self.x_t = x_t  \n",
    "  \n",
    "    def __inc__(self, key: str, value: Any, *args, **kwargs) -> Any:  \n",
    "        # 如果要合并的是图s  \n",
    "        # 那么告诉PyG图s的节点数  \n",
    "        if key == 'edge_index_s':  \n",
    "            return self.x_s.size(0)  \n",
    "        # 如果要合并的是图t  \n",
    "        # 那么告诉PyG图t的节点数  \n",
    "        if key == 'edge_index_t':  \n",
    "            return self.x_t.size(0)  \n",
    "        # 其它情况默认  \n",
    "        else:  \n",
    "            return super().__inc__(key, value, *args, **kwargs)  "
   ]
  },
  {
   "cell_type": "code",
   "execution_count": 4,
   "id": "47380f37",
   "metadata": {},
   "outputs": [],
   "source": [
    "# 定义图s\n",
    "edge_index_s = torch.tensor([\n",
    "    [0, 0, 0, 0],\n",
    "    [1, 2, 3, 4],\n",
    "])\n",
    "x_s = torch.randn(5, 16)"
   ]
  },
  {
   "cell_type": "code",
   "execution_count": 5,
   "id": "3169023b",
   "metadata": {},
   "outputs": [],
   "source": [
    "# 定义图t\n",
    "edge_index_t = torch.tensor([\n",
    "    [0, 0, 0],\n",
    "    [1, 2, 3],\n",
    "])\n",
    "x_t = torch.randn(4, 16)"
   ]
  },
  {
   "cell_type": "code",
   "execution_count": 9,
   "id": "45ae99b1",
   "metadata": {},
   "outputs": [],
   "source": [
    "data = PairData(edge_index_s, x_s, edge_index_t, x_t)"
   ]
  },
  {
   "cell_type": "code",
   "execution_count": 10,
   "id": "22945373",
   "metadata": {},
   "outputs": [
    {
     "data": {
      "text/plain": [
       "PairData(edge_index_s=[2, 4], x_s=[5, 16], edge_index_t=[2, 3], x_t=[4, 16])"
      ]
     },
     "execution_count": 10,
     "metadata": {},
     "output_type": "execute_result"
    }
   ],
   "source": [
    "data"
   ]
  },
  {
   "cell_type": "code",
   "execution_count": 11,
   "id": "8eb131e0",
   "metadata": {},
   "outputs": [],
   "source": [
    "data_list = [data, data]"
   ]
  },
  {
   "cell_type": "code",
   "execution_count": 13,
   "id": "0c993862",
   "metadata": {},
   "outputs": [],
   "source": [
    "# follow_batch描述节点信息\n",
    "loader = DataLoader(data_list, batch_size=2, follow_batch=['x_s', 'x_t'])\n",
    "batch = next(iter(loader))"
   ]
  },
  {
   "cell_type": "code",
   "execution_count": 14,
   "id": "03b0375f",
   "metadata": {},
   "outputs": [
    {
     "data": {
      "text/plain": [
       "PairDataBatch(edge_index_s=[2, 8], x_s=[10, 16], x_s_batch=[10], edge_index_t=[2, 6], x_t=[8, 16], x_t_batch=[8])"
      ]
     },
     "execution_count": 14,
     "metadata": {},
     "output_type": "execute_result"
    }
   ],
   "source": [
    "batch"
   ]
  },
  {
   "cell_type": "code",
   "execution_count": 15,
   "id": "66266d50",
   "metadata": {},
   "outputs": [
    {
     "data": {
      "text/plain": [
       "tensor([[0, 0, 0, 0, 5, 5, 5, 5],\n",
       "        [1, 2, 3, 4, 6, 7, 8, 9]])"
      ]
     },
     "execution_count": 15,
     "metadata": {},
     "output_type": "execute_result"
    }
   ],
   "source": [
    "batch.edge_index_s # 查看batch中的s"
   ]
  },
  {
   "cell_type": "code",
   "execution_count": 16,
   "id": "874f6de0",
   "metadata": {},
   "outputs": [
    {
     "data": {
      "text/plain": [
       "tensor([[0, 0, 0, 4, 4, 4],\n",
       "        [1, 2, 3, 5, 6, 7]])"
      ]
     },
     "execution_count": 16,
     "metadata": {},
     "output_type": "execute_result"
    }
   ],
   "source": [
    "batch.edge_index_t # 查看batch中的t"
   ]
  },
  {
   "cell_type": "code",
   "execution_count": 18,
   "id": "9b04e6f4",
   "metadata": {},
   "outputs": [],
   "source": [
    "import torch  \n",
    "from torch_geometric.data import Data  \n",
    "from torch_geometric.loader import DataLoader \n",
    "\n",
    "\n",
    "# 定义二分图结构  \n",
    "class BipartiteData(Data):  \n",
    "    def __init__(self, edge_index=None, x_s=None, x_t=None):  \n",
    "        super().__init__()  \n",
    "        # 包含一组边  \n",
    "        # 两组节点  \n",
    "        self.edge_index = edge_index  \n",
    "        self.x_s = x_s  \n",
    "        self.x_t = x_t  \n",
    "  \n",
    "    # 定义每个batch的合并方式  \n",
    "    def __inc__(self, key, value, *args, **kwargs):  \n",
    "        # 如果要合并两个图的边连接信息  \n",
    "        if key == 'edge_index':  \n",
    "            # 左边（边连接信息的第一行）按照第一组节点数合并  \n",
    "            # 右边（边连接信息的第二行）按照第二组节点数合并  \n",
    "            return torch.tensor([[self.x_s.size(0)], [self.x_t.size(0)]])  \n",
    "        else:  \n",
    "            return super().__inc__(key, value, *args, **kwargs) "
   ]
  },
  {
   "cell_type": "code",
   "execution_count": 20,
   "id": "6c652ac0",
   "metadata": {},
   "outputs": [
    {
     "name": "stdout",
     "output_type": "stream",
     "text": [
      "BipartiteDataBatch(edge_index=[2, 8], x_s=[4, 16], x_t=[6, 16], batch=[6], ptr=[3])\n",
      "tensor([[0, 0, 1, 1, 2, 2, 3, 3],\n",
      "        [0, 1, 1, 2, 3, 4, 4, 5]])\n"
     ]
    },
    {
     "name": "stderr",
     "output_type": "stream",
     "text": [
      "/root/anaconda3/envs/nlp/lib/python3.7/site-packages/torch_geometric/data/storage.py:266: UserWarning: Unable to accurately infer 'num_nodes' from the attribute set '{'edge_index', 'x_t', 'x_s'}'. Please explicitly set 'num_nodes' as an attribute of 'data' to suppress this warning\n",
      "  \" to suppress this warning\")\n"
     ]
    }
   ],
   "source": [
    "edge_index = torch.tensor([\n",
    "    [0, 0, 1, 1],\n",
    "    [0, 1, 1, 2],\n",
    "])\n",
    "x_s = torch.randn(2, 16)\n",
    "x_t = torch.randn(3, 16)\n",
    "\n",
    "\n",
    "data = BipartiteData(edge_index, x_s, x_t)\n",
    "data_list = [data, data]\n",
    "loader = DataLoader(data_list, batch_size=2)\n",
    "\n",
    "batch = next(iter(loader))\n",
    "print(batch)\n",
    "print(batch.edge_index)"
   ]
  },
  {
   "cell_type": "markdown",
   "id": "c3486b63",
   "metadata": {},
   "source": [
    "## 异质图构建"
   ]
  },
  {
   "cell_type": "code",
   "execution_count": 12,
   "id": "fa667934",
   "metadata": {},
   "outputs": [],
   "source": [
    "import os.path as osp\n",
    "import torch\n",
    "import pandas as pd\n",
    "# from sentence_transformers import SentenceTransformer"
   ]
  },
  {
   "cell_type": "code",
   "execution_count": 3,
   "id": "6bde362b",
   "metadata": {},
   "outputs": [
    {
     "name": "stdout",
     "output_type": "stream",
     "text": [
      "Collecting sentence-transformers\n",
      "  Downloading sentence-transformers-2.2.0.tar.gz (79 kB)\n",
      "\u001b[K     |████████████████████████████████| 79 kB 65 kB/s eta 0:00:011\n",
      "\u001b[?25hCollecting transformers<5.0.0,>=4.6.0\n",
      "  Downloading transformers-4.20.0-py3-none-any.whl (4.4 MB)\n",
      "\u001b[K     |████████████████████████████████| 4.4 MB 34 kB/s eta 0:00:015\n",
      "\u001b[?25hRequirement already satisfied, skipping upgrade: tqdm in /root/anaconda3/envs/nlp/lib/python3.7/site-packages (from sentence-transformers) (4.51.0)\n",
      "Collecting torch>=1.6.0\n",
      "  Downloading torch-1.11.0-cp37-cp37m-manylinux1_x86_64.whl (750.6 MB)\n",
      "\u001b[K     |▉                               | 20.8 MB 22 kB/s eta 9:09:168^C\n",
      "\n",
      "\u001b[?25h\u001b[31mERROR: Operation cancelled by user\u001b[0m\n"
     ]
    }
   ],
   "source": [
    "!pip install -U sentence-transformers"
   ]
  },
  {
   "cell_type": "code",
   "execution_count": 13,
   "id": "f6ad30a4",
   "metadata": {},
   "outputs": [
    {
     "name": "stderr",
     "output_type": "stream",
     "text": [
      "Using existing file ml-latest-small.zip\n",
      "Extracting ./data/MovieLens/ml-latest-small.zip\n"
     ]
    }
   ],
   "source": [
    "from torch_geometric.data import HeteroData, download_url, extract_zip\n",
    "from torch_geometric.transforms import ToUndirected, RandomLinkSplit\n",
    "\n",
    "\n",
    "url = \"https://files.grouplens.org/datasets/movielens/ml-latest-small.zip\"\n",
    "root = \"./data/MovieLens\"\n",
    "extract_zip(download_url(url, root), root)"
   ]
  },
  {
   "cell_type": "code",
   "execution_count": 15,
   "id": "75a16502",
   "metadata": {},
   "outputs": [],
   "source": [
    "movie_path = osp.join(root, 'ml-latest-small', 'movies.csv')\n",
    "rating_path = osp.join(root, 'ml-latest-small', 'ratings.csv')"
   ]
  },
  {
   "cell_type": "code",
   "execution_count": 18,
   "id": "732fcc0a",
   "metadata": {},
   "outputs": [
    {
     "data": {
      "text/html": [
       "<div>\n",
       "<style scoped>\n",
       "    .dataframe tbody tr th:only-of-type {\n",
       "        vertical-align: middle;\n",
       "    }\n",
       "\n",
       "    .dataframe tbody tr th {\n",
       "        vertical-align: top;\n",
       "    }\n",
       "\n",
       "    .dataframe thead th {\n",
       "        text-align: right;\n",
       "    }\n",
       "</style>\n",
       "<table border=\"1\" class=\"dataframe\">\n",
       "  <thead>\n",
       "    <tr style=\"text-align: right;\">\n",
       "      <th></th>\n",
       "      <th>movieId</th>\n",
       "      <th>title</th>\n",
       "      <th>genres</th>\n",
       "    </tr>\n",
       "  </thead>\n",
       "  <tbody>\n",
       "    <tr>\n",
       "      <th>0</th>\n",
       "      <td>1</td>\n",
       "      <td>Toy Story (1995)</td>\n",
       "      <td>Adventure|Animation|Children|Comedy|Fantasy</td>\n",
       "    </tr>\n",
       "    <tr>\n",
       "      <th>1</th>\n",
       "      <td>2</td>\n",
       "      <td>Jumanji (1995)</td>\n",
       "      <td>Adventure|Children|Fantasy</td>\n",
       "    </tr>\n",
       "    <tr>\n",
       "      <th>2</th>\n",
       "      <td>3</td>\n",
       "      <td>Grumpier Old Men (1995)</td>\n",
       "      <td>Comedy|Romance</td>\n",
       "    </tr>\n",
       "    <tr>\n",
       "      <th>3</th>\n",
       "      <td>4</td>\n",
       "      <td>Waiting to Exhale (1995)</td>\n",
       "      <td>Comedy|Drama|Romance</td>\n",
       "    </tr>\n",
       "    <tr>\n",
       "      <th>4</th>\n",
       "      <td>5</td>\n",
       "      <td>Father of the Bride Part II (1995)</td>\n",
       "      <td>Comedy</td>\n",
       "    </tr>\n",
       "  </tbody>\n",
       "</table>\n",
       "</div>"
      ],
      "text/plain": [
       "   movieId                               title  \\\n",
       "0        1                    Toy Story (1995)   \n",
       "1        2                      Jumanji (1995)   \n",
       "2        3             Grumpier Old Men (1995)   \n",
       "3        4            Waiting to Exhale (1995)   \n",
       "4        5  Father of the Bride Part II (1995)   \n",
       "\n",
       "                                        genres  \n",
       "0  Adventure|Animation|Children|Comedy|Fantasy  \n",
       "1                   Adventure|Children|Fantasy  \n",
       "2                               Comedy|Romance  \n",
       "3                         Comedy|Drama|Romance  \n",
       "4                                       Comedy  "
      ]
     },
     "execution_count": 18,
     "metadata": {},
     "output_type": "execute_result"
    }
   ],
   "source": [
    "pd.read_csv(movie_path).head() # 描述电影的基本信息，唯一的ID,电影名,电影所属类型"
   ]
  },
  {
   "cell_type": "code",
   "execution_count": 17,
   "id": "fc852066",
   "metadata": {},
   "outputs": [
    {
     "data": {
      "text/html": [
       "<div>\n",
       "<style scoped>\n",
       "    .dataframe tbody tr th:only-of-type {\n",
       "        vertical-align: middle;\n",
       "    }\n",
       "\n",
       "    .dataframe tbody tr th {\n",
       "        vertical-align: top;\n",
       "    }\n",
       "\n",
       "    .dataframe thead th {\n",
       "        text-align: right;\n",
       "    }\n",
       "</style>\n",
       "<table border=\"1\" class=\"dataframe\">\n",
       "  <thead>\n",
       "    <tr style=\"text-align: right;\">\n",
       "      <th></th>\n",
       "      <th>userId</th>\n",
       "      <th>movieId</th>\n",
       "      <th>rating</th>\n",
       "      <th>timestamp</th>\n",
       "    </tr>\n",
       "  </thead>\n",
       "  <tbody>\n",
       "    <tr>\n",
       "      <th>0</th>\n",
       "      <td>1</td>\n",
       "      <td>1</td>\n",
       "      <td>4.0</td>\n",
       "      <td>964982703</td>\n",
       "    </tr>\n",
       "    <tr>\n",
       "      <th>1</th>\n",
       "      <td>1</td>\n",
       "      <td>3</td>\n",
       "      <td>4.0</td>\n",
       "      <td>964981247</td>\n",
       "    </tr>\n",
       "    <tr>\n",
       "      <th>2</th>\n",
       "      <td>1</td>\n",
       "      <td>6</td>\n",
       "      <td>4.0</td>\n",
       "      <td>964982224</td>\n",
       "    </tr>\n",
       "    <tr>\n",
       "      <th>3</th>\n",
       "      <td>1</td>\n",
       "      <td>47</td>\n",
       "      <td>5.0</td>\n",
       "      <td>964983815</td>\n",
       "    </tr>\n",
       "    <tr>\n",
       "      <th>4</th>\n",
       "      <td>1</td>\n",
       "      <td>50</td>\n",
       "      <td>5.0</td>\n",
       "      <td>964982931</td>\n",
       "    </tr>\n",
       "  </tbody>\n",
       "</table>\n",
       "</div>"
      ],
      "text/plain": [
       "   userId  movieId  rating  timestamp\n",
       "0       1        1     4.0  964982703\n",
       "1       1        3     4.0  964981247\n",
       "2       1        6     4.0  964982224\n",
       "3       1       47     5.0  964983815\n",
       "4       1       50     5.0  964982931"
      ]
     },
     "execution_count": 17,
     "metadata": {},
     "output_type": "execute_result"
    }
   ],
   "source": [
    "pd.read_csv(rating_path).head() # 用户对电影的评分"
   ]
  },
  {
   "cell_type": "code",
   "execution_count": null,
   "id": "cf11eb20",
   "metadata": {},
   "outputs": [],
   "source": []
  },
  {
   "cell_type": "code",
   "execution_count": null,
   "id": "2c487e26",
   "metadata": {},
   "outputs": [],
   "source": []
  }
 ],
 "metadata": {
  "kernelspec": {
   "display_name": "Python 3.7.9 64-bit ('nlp': conda)",
   "language": "python",
   "name": "python37964bitnlpconda05abd83d080740e5b89339cae7231386"
  },
  "language_info": {
   "codemirror_mode": {
    "name": "ipython",
    "version": 3
   },
   "file_extension": ".py",
   "mimetype": "text/x-python",
   "name": "python",
   "nbconvert_exporter": "python",
   "pygments_lexer": "ipython3",
   "version": "3.7.9"
  }
 },
 "nbformat": 4,
 "nbformat_minor": 5
}
